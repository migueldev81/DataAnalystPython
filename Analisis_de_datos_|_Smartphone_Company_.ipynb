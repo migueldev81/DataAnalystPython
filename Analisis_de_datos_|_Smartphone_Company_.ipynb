{
  "cells": [
    {
      "cell_type": "markdown",
      "metadata": {
        "id": "view-in-github",
        "colab_type": "text"
      },
      "source": [
        "<a href=\"https://colab.research.google.com/github/migueldev81/data-analyst-python/blob/main/Analisis_de_datos_%7C_Smartphone_Company_.ipynb\" target=\"_parent\"><img src=\"https://colab.research.google.com/assets/colab-badge.svg\" alt=\"Open In Colab\"/></a>"
      ]
    },
    {
      "cell_type": "markdown",
      "metadata": {
        "id": "1hAQfm83Bp7d"
      },
      "source": [
        "# Análisis de datos | Empresa de teléfonos inteligentes\n",
        "\n",
        "Este análisis de datos se basa en las ventas realizadas por una empresa de teléfonos inteligentes.\n",
        "Como base de datos tengo un archivo excel con el reporte de todas las ventas realizadas.\n",
        "\n",
        "\n",
        "### 1) Obtenga el Total (precio) de las ventas realizadas de la Marca Samsung\n",
        "\n",
        "### 2) Obtenga cuántos teléfonos inteligentes de la categoría Premium de la marca Apple se vendieron en 2021\n"
      ]
    },
    {
      "cell_type": "markdown",
      "source": [
        "## Import / Read\n"
      ],
      "metadata": {
        "id": "vO7rmFLqEcKV"
      }
    },
    {
      "cell_type": "code",
      "execution_count": 9,
      "metadata": {
        "id": "pPi0E4FaBp7k"
      },
      "outputs": [],
      "source": [
        "import pandas as pd\n",
        "path = 'dataset.xlsx'\n",
        "df = pd.read_excel(path, sheet_name='Principal')\n"
      ]
    },
    {
      "cell_type": "markdown",
      "source": [
        "# 1) Obtenga el Total (precio) de las ventas realizadas de la Marca Samsung\n",
        "\n",
        "\n"
      ],
      "metadata": {
        "id": "vELz6X_QEur5"
      }
    },
    {
      "cell_type": "code",
      "source": [
        "# Filtrar ventas por Marca=Samsung\n",
        "df_samsung = df.loc[df[\"Marca\"] == \"Samsung\"]\n",
        "\n",
        "# Suma del total de df_samsung\n",
        "suma = sum(df_samsung[\"Total\"])\n",
        "\n",
        "# Resultado\n",
        "print(\"Total: $\"+str(float(suma)))"
      ],
      "metadata": {
        "colab": {
          "base_uri": "https://localhost:8080/"
        },
        "id": "gEjErvNRE7zb",
        "outputId": "db1c1518-2324-4570-8fa7-0e36ab49f946"
      },
      "execution_count": 11,
      "outputs": [
        {
          "output_type": "stream",
          "name": "stdout",
          "text": [
            "Total: $1197025193.86\n"
          ]
        }
      ]
    },
    {
      "cell_type": "markdown",
      "source": [
        "# 2) Obtenga cuántos teléfonos inteligentes de la categoría Premium de la marca Apple se vendieron en 2021"
      ],
      "metadata": {
        "id": "pBu5Ya2iRCMX"
      }
    },
    {
      "cell_type": "code",
      "source": [
        "#Filtar por Marca=Apple\n",
        "df_apple = df.loc[df[\"Marca\"] == \"Apple\"]\n",
        "\n",
        "#Filtrar por Categoria=Premium para Marca=Apple\n",
        "df_apple_premium = df_apple.loc[df_apple[\"Categoría\"] == \"Premium\"]\n",
        "\n",
        "#Filtar por año 2021 para Categoria=Premium para Marca=Apple\n",
        "df_apple_premium[\"Fecha\"] = pd.to_datetime(df_apple_premium['Fecha'])\n",
        "df_apple_premium_year = df_apple_premium.loc[df_apple_premium['Fecha'].dt.year == 2021]\n",
        "\n",
        "df_apple_premium_year.head()\n",
        "\n"
      ],
      "metadata": {
        "colab": {
          "base_uri": "https://localhost:8080/",
          "height": 461
        },
        "id": "JLxd6amrRHLb",
        "outputId": "d59dfc93-326a-4f5a-e318-1d4e69264f6b"
      },
      "execution_count": 10,
      "outputs": [
        {
          "output_type": "stream",
          "name": "stderr",
          "text": [
            "<ipython-input-10-6f01cfb18da1>:8: SettingWithCopyWarning: \n",
            "A value is trying to be set on a copy of a slice from a DataFrame.\n",
            "Try using .loc[row_indexer,col_indexer] = value instead\n",
            "\n",
            "See the caveats in the documentation: https://pandas.pydata.org/pandas-docs/stable/user_guide/indexing.html#returning-a-view-versus-a-copy\n",
            "  df_apple_premium[\"Fecha\"] = pd.to_datetime(df_apple_premium['Fecha'])\n"
          ]
        },
        {
          "output_type": "execute_result",
          "data": {
            "text/plain": [
              "     Id      Fecha  IdProducto  Marca                     Producto  \\\n",
              "2     6 2021-09-03          12  Apple  iPhone 11 Apple 64 GB Negro   \n",
              "15   72 2021-12-26          12  Apple  iPhone 11 Apple 64 GB Negro   \n",
              "22  113 2021-12-13          12  Apple  iPhone 11 Apple 64 GB Negro   \n",
              "30  137 2021-11-30          12  Apple  iPhone 11 Apple 64 GB Negro   \n",
              "34  145 2021-11-03          12  Apple  iPhone 11 Apple 64 GB Negro   \n",
              "\n",
              "                                          Descripción Categoría   Precio  \\\n",
              "2   Pantalla de 6.1 pulgadas con liquid retina\\n\\n...   Premium  17999.0   \n",
              "15  Pantalla de 6.1 pulgadas con liquid retina\\n\\n...   Premium  17999.0   \n",
              "22  Pantalla de 6.1 pulgadas con liquid retina\\n\\n...   Premium  17999.0   \n",
              "30  Pantalla de 6.1 pulgadas con liquid retina\\n\\n...   Premium  17999.0   \n",
              "34  Pantalla de 6.1 pulgadas con liquid retina\\n\\n...   Premium  17999.0   \n",
              "\n",
              "    Cantidad      Total  \n",
              "2          4    71996.0  \n",
              "15        33   593967.0  \n",
              "22        74  1331926.0  \n",
              "30        98  1763902.0  \n",
              "34       106  1907894.0  "
            ],
            "text/html": [
              "\n",
              "  <div id=\"df-ae4252de-331f-49a8-85e9-931d4982c583\">\n",
              "    <div class=\"colab-df-container\">\n",
              "      <div>\n",
              "<style scoped>\n",
              "    .dataframe tbody tr th:only-of-type {\n",
              "        vertical-align: middle;\n",
              "    }\n",
              "\n",
              "    .dataframe tbody tr th {\n",
              "        vertical-align: top;\n",
              "    }\n",
              "\n",
              "    .dataframe thead th {\n",
              "        text-align: right;\n",
              "    }\n",
              "</style>\n",
              "<table border=\"1\" class=\"dataframe\">\n",
              "  <thead>\n",
              "    <tr style=\"text-align: right;\">\n",
              "      <th></th>\n",
              "      <th>Id</th>\n",
              "      <th>Fecha</th>\n",
              "      <th>IdProducto</th>\n",
              "      <th>Marca</th>\n",
              "      <th>Producto</th>\n",
              "      <th>Descripción</th>\n",
              "      <th>Categoría</th>\n",
              "      <th>Precio</th>\n",
              "      <th>Cantidad</th>\n",
              "      <th>Total</th>\n",
              "    </tr>\n",
              "  </thead>\n",
              "  <tbody>\n",
              "    <tr>\n",
              "      <th>2</th>\n",
              "      <td>6</td>\n",
              "      <td>2021-09-03</td>\n",
              "      <td>12</td>\n",
              "      <td>Apple</td>\n",
              "      <td>iPhone 11 Apple 64 GB Negro</td>\n",
              "      <td>Pantalla de 6.1 pulgadas con liquid retina\\n\\n...</td>\n",
              "      <td>Premium</td>\n",
              "      <td>17999.0</td>\n",
              "      <td>4</td>\n",
              "      <td>71996.0</td>\n",
              "    </tr>\n",
              "    <tr>\n",
              "      <th>15</th>\n",
              "      <td>72</td>\n",
              "      <td>2021-12-26</td>\n",
              "      <td>12</td>\n",
              "      <td>Apple</td>\n",
              "      <td>iPhone 11 Apple 64 GB Negro</td>\n",
              "      <td>Pantalla de 6.1 pulgadas con liquid retina\\n\\n...</td>\n",
              "      <td>Premium</td>\n",
              "      <td>17999.0</td>\n",
              "      <td>33</td>\n",
              "      <td>593967.0</td>\n",
              "    </tr>\n",
              "    <tr>\n",
              "      <th>22</th>\n",
              "      <td>113</td>\n",
              "      <td>2021-12-13</td>\n",
              "      <td>12</td>\n",
              "      <td>Apple</td>\n",
              "      <td>iPhone 11 Apple 64 GB Negro</td>\n",
              "      <td>Pantalla de 6.1 pulgadas con liquid retina\\n\\n...</td>\n",
              "      <td>Premium</td>\n",
              "      <td>17999.0</td>\n",
              "      <td>74</td>\n",
              "      <td>1331926.0</td>\n",
              "    </tr>\n",
              "    <tr>\n",
              "      <th>30</th>\n",
              "      <td>137</td>\n",
              "      <td>2021-11-30</td>\n",
              "      <td>12</td>\n",
              "      <td>Apple</td>\n",
              "      <td>iPhone 11 Apple 64 GB Negro</td>\n",
              "      <td>Pantalla de 6.1 pulgadas con liquid retina\\n\\n...</td>\n",
              "      <td>Premium</td>\n",
              "      <td>17999.0</td>\n",
              "      <td>98</td>\n",
              "      <td>1763902.0</td>\n",
              "    </tr>\n",
              "    <tr>\n",
              "      <th>34</th>\n",
              "      <td>145</td>\n",
              "      <td>2021-11-03</td>\n",
              "      <td>12</td>\n",
              "      <td>Apple</td>\n",
              "      <td>iPhone 11 Apple 64 GB Negro</td>\n",
              "      <td>Pantalla de 6.1 pulgadas con liquid retina\\n\\n...</td>\n",
              "      <td>Premium</td>\n",
              "      <td>17999.0</td>\n",
              "      <td>106</td>\n",
              "      <td>1907894.0</td>\n",
              "    </tr>\n",
              "  </tbody>\n",
              "</table>\n",
              "</div>\n",
              "      <button class=\"colab-df-convert\" onclick=\"convertToInteractive('df-ae4252de-331f-49a8-85e9-931d4982c583')\"\n",
              "              title=\"Convert this dataframe to an interactive table.\"\n",
              "              style=\"display:none;\">\n",
              "        \n",
              "  <svg xmlns=\"http://www.w3.org/2000/svg\" height=\"24px\"viewBox=\"0 0 24 24\"\n",
              "       width=\"24px\">\n",
              "    <path d=\"M0 0h24v24H0V0z\" fill=\"none\"/>\n",
              "    <path d=\"M18.56 5.44l.94 2.06.94-2.06 2.06-.94-2.06-.94-.94-2.06-.94 2.06-2.06.94zm-11 1L8.5 8.5l.94-2.06 2.06-.94-2.06-.94L8.5 2.5l-.94 2.06-2.06.94zm10 10l.94 2.06.94-2.06 2.06-.94-2.06-.94-.94-2.06-.94 2.06-2.06.94z\"/><path d=\"M17.41 7.96l-1.37-1.37c-.4-.4-.92-.59-1.43-.59-.52 0-1.04.2-1.43.59L10.3 9.45l-7.72 7.72c-.78.78-.78 2.05 0 2.83L4 21.41c.39.39.9.59 1.41.59.51 0 1.02-.2 1.41-.59l7.78-7.78 2.81-2.81c.8-.78.8-2.07 0-2.86zM5.41 20L4 18.59l7.72-7.72 1.47 1.35L5.41 20z\"/>\n",
              "  </svg>\n",
              "      </button>\n",
              "      \n",
              "  <style>\n",
              "    .colab-df-container {\n",
              "      display:flex;\n",
              "      flex-wrap:wrap;\n",
              "      gap: 12px;\n",
              "    }\n",
              "\n",
              "    .colab-df-convert {\n",
              "      background-color: #E8F0FE;\n",
              "      border: none;\n",
              "      border-radius: 50%;\n",
              "      cursor: pointer;\n",
              "      display: none;\n",
              "      fill: #1967D2;\n",
              "      height: 32px;\n",
              "      padding: 0 0 0 0;\n",
              "      width: 32px;\n",
              "    }\n",
              "\n",
              "    .colab-df-convert:hover {\n",
              "      background-color: #E2EBFA;\n",
              "      box-shadow: 0px 1px 2px rgba(60, 64, 67, 0.3), 0px 1px 3px 1px rgba(60, 64, 67, 0.15);\n",
              "      fill: #174EA6;\n",
              "    }\n",
              "\n",
              "    [theme=dark] .colab-df-convert {\n",
              "      background-color: #3B4455;\n",
              "      fill: #D2E3FC;\n",
              "    }\n",
              "\n",
              "    [theme=dark] .colab-df-convert:hover {\n",
              "      background-color: #434B5C;\n",
              "      box-shadow: 0px 1px 3px 1px rgba(0, 0, 0, 0.15);\n",
              "      filter: drop-shadow(0px 1px 2px rgba(0, 0, 0, 0.3));\n",
              "      fill: #FFFFFF;\n",
              "    }\n",
              "  </style>\n",
              "\n",
              "      <script>\n",
              "        const buttonEl =\n",
              "          document.querySelector('#df-ae4252de-331f-49a8-85e9-931d4982c583 button.colab-df-convert');\n",
              "        buttonEl.style.display =\n",
              "          google.colab.kernel.accessAllowed ? 'block' : 'none';\n",
              "\n",
              "        async function convertToInteractive(key) {\n",
              "          const element = document.querySelector('#df-ae4252de-331f-49a8-85e9-931d4982c583');\n",
              "          const dataTable =\n",
              "            await google.colab.kernel.invokeFunction('convertToInteractive',\n",
              "                                                     [key], {});\n",
              "          if (!dataTable) return;\n",
              "\n",
              "          const docLinkHtml = 'Like what you see? Visit the ' +\n",
              "            '<a target=\"_blank\" href=https://colab.research.google.com/notebooks/data_table.ipynb>data table notebook</a>'\n",
              "            + ' to learn more about interactive tables.';\n",
              "          element.innerHTML = '';\n",
              "          dataTable['output_type'] = 'display_data';\n",
              "          await google.colab.output.renderOutput(dataTable, element);\n",
              "          const docLink = document.createElement('div');\n",
              "          docLink.innerHTML = docLinkHtml;\n",
              "          element.appendChild(docLink);\n",
              "        }\n",
              "      </script>\n",
              "    </div>\n",
              "  </div>\n",
              "  "
            ]
          },
          "metadata": {},
          "execution_count": 10
        }
      ]
    }
  ],
  "metadata": {
    "kernelspec": {
      "display_name": "Python 3",
      "language": "python",
      "name": "python3"
    },
    "language_info": {
      "codemirror_mode": {
        "name": "ipython",
        "version": 3
      },
      "file_extension": ".py",
      "mimetype": "text/x-python",
      "name": "python",
      "nbconvert_exporter": "python",
      "pygments_lexer": "ipython3",
      "version": "3.7.6"
    },
    "colab": {
      "provenance": [],
      "include_colab_link": true
    }
  },
  "nbformat": 4,
  "nbformat_minor": 0
}